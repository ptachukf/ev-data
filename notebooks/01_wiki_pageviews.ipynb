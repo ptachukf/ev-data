# Wikipedia Pageviews for EV Models (PoC)

Goal: fetch monthly pageviews for a single EV Wikipedia page (e.g., Tesla Model 3),
plot the trend, and save results to `results/`.

Steps:
1) Set `PAGE_TITLE` (Wikipedia article title, e.g., "Tesla_Model_3").
2) Call Wikimedia Pageviews API.
3) Normalize JSON -> pandas DataFrame.
4) Plot monthly trend with matplotlib.
5) Save CSV and PNG to `../results/`.
